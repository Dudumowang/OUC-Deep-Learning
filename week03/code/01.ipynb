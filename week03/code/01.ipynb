{
 "cells": [
  {
   "cell_type": "code",
   "execution_count": 1,
   "id": "89a0e276-bd1b-4382-a49c-4a79e7882da4",
   "metadata": {},
   "outputs": [],
   "source": [
    "import torch\n",
    "import torch.nn as nn\n",
    "import os\n",
    "import torch.optim as optim\n",
    "import torchvision.transforms as transforms\n",
    "import torchvision\n",
    "import torchvision.models as models\n",
    "\n",
    "from PIL import Image\n",
    "from sympy.polys.agca.modules import Module\n",
    "from torch.distributions import transform_to\n",
    "\n",
    "device = torch.device('cuda' if torch.cuda.is_available() else 'cpu')\n",
    "\n",
    "num_classes = 2\n",
    "\n",
    "train_transform = transforms.Compose([\n",
    "    transforms.Resize(224),\n",
    "    transforms.RandomResizedCrop(224),\n",
    "    transforms.RandomHorizontalFlip(),\n",
    "    transforms.ToTensor(),\n",
    "    transforms.Normalize([0.485, 0.456, 0.406], [0.229, 0.224, 0.225])\n",
    "])"
   ]
  },
  {
   "cell_type": "code",
   "execution_count": 2,
   "id": "4d5b725a-8dc9-4c68-a2b1-1e35d9dd1f99",
   "metadata": {},
   "outputs": [],
   "source": [
    "#猫狗分类数据集\n",
    "class MyDataset(torch.utils.data.Dataset):\n",
    "    def __init__(self, data_dir, transform=None):\n",
    "        self.Data = []\n",
    "        self.Label = []\n",
    "        self.transform = transform\n",
    "        self.data_dir = data_dir\n",
    "        # 读取数据\n",
    "        for file in os.listdir(data_dir):\n",
    "            self.Data.append(file)\n",
    "            if 'cat' in file:\n",
    "                self.Label.append(0)\n",
    "            else:\n",
    "                self.Label.append(1)\n",
    "\n",
    "    def __len__(self):\n",
    "        return len(self.Data)\n",
    "\n",
    "    def __getitem__(self, idx):\n",
    "        img = Image.open(self.data_dir + '/' + self.Data[idx])\n",
    "        label = self.Label[idx]\n",
    "        if self.transform:\n",
    "            img = self.transform(img)\n",
    "        return img, label\n",
    "\n",
    "\n"
   ]
  },
  {
   "cell_type": "code",
   "execution_count": 3,
   "id": "702c27c3-e576-4676-80b9-77488b97e1a3",
   "metadata": {},
   "outputs": [],
   "source": [
    "train_dir = 'data/train'\n",
    "\n",
    "train_data = MyDataset(train_dir, transform=train_transform)\n",
    "\n",
    "train_loader = torch.utils.data.DataLoader(train_data, batch_size=128, shuffle=True)"
   ]
  },
  {
   "cell_type": "code",
   "execution_count": 4,
   "id": "bc5c8872-6a69-4131-ac92-96719f654bb6",
   "metadata": {},
   "outputs": [],
   "source": [
    "model = models.resnet34(weights=models.ResNet34_Weights.DEFAULT)\n",
    "\n",
    "model.fc = nn.Linear(512, num_classes)"
   ]
  },
  {
   "cell_type": "code",
   "execution_count": 5,
   "id": "561e5d49-504b-4c61-ac2e-cd61970865bf",
   "metadata": {},
   "outputs": [],
   "source": [
    "model.load_state_dict(torch.load('cat_dog.pth'))\n",
    "model.to(device)"
   ]
  },
  {
   "cell_type": "code",
   "execution_count": null,
   "id": "7b61500c-0bca-4db9-a6cb-12ace15c3e4a",
   "metadata": {},
   "outputs": [],
   "source": [
    "# model = model.to(device)\n",
    "\n",
    "# criterion = nn.CrossEntropyLoss()\n",
    "# optimizer = optim.Adam(model.parameters(), lr=0.0001)\n",
    "\n",
    "# num_epochs = 10\n",
    "\n",
    "# for epoch in range(num_epochs):\n",
    "#     model.train()\n",
    "#     for i,(x,y) in enumerate(train_loader):\n",
    "#         x = x.to(device)\n",
    "#         y = y.to(device)\n",
    "#         optimizer.zero_grad()\n",
    "#         outputs = model(x)\n",
    "#         loss = criterion(outputs, y)\n",
    "#         loss.backward()\n",
    "#         optimizer.step()\n",
    "#         print('epoch{} loss:{}'.format(epoch, loss.item()))\n",
    "\n",
    "# torch.save(model.state_dict(), 'cat_dog.pth')"
   ]
  },
  {
   "cell_type": "code",
   "execution_count": 7,
   "id": "7be3aafe-8953-42a2-98d5-d1002dde9ba8",
   "metadata": {},
   "outputs": [],
   "source": [
    "val_dir = 'data/val'\n",
    "\n",
    "val_data = MyDataset(val_dir, transform=train_transform)\n",
    "\n",
    "val_loader = torch.utils.data.DataLoader(val_data, batch_size=128, shuffle=False)"
   ]
  },
  {
   "cell_type": "code",
   "execution_count": 8,
   "id": "3f059522-2647-4bb7-be5b-d9a888884a6b",
   "metadata": {},
   "outputs": [
    {
     "name": "stdout",
     "output_type": "stream",
     "text": [
      "0.969\n"
     ]
    }
   ],
   "source": [
    "\n",
    "total = 0\n",
    "correct = 0\n",
    "model.eval()\n",
    "for i,(x,y) in enumerate(val_loader):\n",
    "    x = x.to(device)\n",
    "    y = y.to(device)\n",
    "    outputs = model(x)\n",
    "    _, predicted = torch.max(outputs.data, 1)\n",
    "    total += y.size(0)\n",
    "    correct += (predicted == y).sum().item()\n",
    "print(correct / total)"
   ]
  },
  {
   "cell_type": "code",
   "execution_count": 9,
   "id": "0265eb29-87a2-4d78-826e-ff9db0592749",
   "metadata": {},
   "outputs": [],
   "source": [
    "class TestDataset(torch.utils.data.Dataset):\n",
    "    def __init__(self, data_dir, transform=None):\n",
    "        self.Data = []\n",
    "        self.Label = []\n",
    "        self.data_dir = data_dir\n",
    "        self.transform = transform\n",
    "        for i in range(2000):\n",
    "            self.Data.append(str(i)+'.jpg')\n",
    "            self.Label.append(str(i))\n",
    "    def __len__(self):\n",
    "        return len(self.Data)\n",
    "\n",
    "    def __getitem__(self, idx):\n",
    "        img = Image.open(test_dir + '/' + self.Data[idx])\n",
    "        if self.transform:\n",
    "            img = self.transform(img)\n",
    "        label = self.Label[idx]\n",
    "        return img,label"
   ]
  },
  {
   "cell_type": "code",
   "execution_count": 10,
   "id": "25b7b684-80d9-43c1-9139-cd1fb38a073e",
   "metadata": {},
   "outputs": [],
   "source": [
    "test_dir = 'data/test'\n",
    "\n",
    "testDataset = TestDataset(test_dir,train_transform)\n",
    "\n",
    "test_loader = torch.utils.data.DataLoader(testDataset, batch_size=1, shuffle=False)"
   ]
  },
  {
   "cell_type": "code",
   "execution_count": 11,
   "id": "8202a1c6-b659-4679-9b57-659dd9c1ba79",
   "metadata": {},
   "outputs": [],
   "source": [
    "model.to(device)\n",
    "model.eval()\n",
    "result = []\n",
    "label = []\n",
    "for i,(x,y) in enumerate(test_loader):\n",
    "    x = x.to(device)\n",
    "    label.append(y[0])\n",
    "    y = model(x).cpu()\n",
    "    _,predicted = torch.max(y,1)\n",
    "    result.append(predicted.tolist()[0])"
   ]
  },
  {
   "cell_type": "code",
   "execution_count": 12,
   "id": "aa75acb3-a514-4ec8-8aec-689893af4115",
   "metadata": {},
   "outputs": [],
   "source": [
    "import csv\n",
    "def toCSV(a, b, filename):\n",
    "    with open(filename, 'w', newline='') as f:\n",
    "        writer = csv.writer(f)\n",
    "        for i in range(len(a)):\n",
    "            writer.writerow([a[i], b[i]])"
   ]
  },
  {
   "cell_type": "code",
   "execution_count": 14,
   "id": "41cd23c3-3544-4028-9c95-7fc75fa6b3bf",
   "metadata": {},
   "outputs": [],
   "source": [
    "toCSV(label,result,'cat_dog.csv')"
   ]
  },
  {
   "cell_type": "code",
   "execution_count": null,
   "id": "90839886-bc3f-4fa3-8be1-27741828aa58",
   "metadata": {},
   "outputs": [],
   "source": []
  }
 ],
 "metadata": {
  "kernelspec": {
   "display_name": "Python 3 (ipykernel)",
   "language": "python",
   "name": "python3"
  },
  "language_info": {
   "codemirror_mode": {
    "name": "ipython",
    "version": 3
   },
   "file_extension": ".py",
   "mimetype": "text/x-python",
   "name": "python",
   "nbconvert_exporter": "python",
   "pygments_lexer": "ipython3",
   "version": "3.12.3"
  }
 },
 "nbformat": 4,
 "nbformat_minor": 5
}
