{
  "nbformat": 4,
  "nbformat_minor": 0,
  "metadata": {
    "colab": {
      "provenance": [],
      "gpuType": "T4"
    },
    "kernelspec": {
      "name": "python3",
      "display_name": "Python 3"
    },
    "language_info": {
      "name": "python"
    },
    "accelerator": "GPU"
  },
  "cells": [
    {
      "cell_type": "code",
      "execution_count": null,
      "metadata": {
        "id": "h89pKE5-g5iS",
        "colab": {
          "base_uri": "https://localhost:8080/"
        },
        "outputId": "d81584ad-ad09-4d41-c8cb-9e0a19fd70a5"
      },
      "outputs": [
        {
          "output_type": "stream",
          "name": "stdout",
          "text": [
            "Downloading https://www.cs.toronto.edu/~kriz/cifar-10-python.tar.gz to ./data/cifar-10-python.tar.gz\n"
          ]
        },
        {
          "output_type": "stream",
          "name": "stderr",
          "text": [
            "100%|██████████| 170498071/170498071 [00:13<00:00, 12648918.36it/s]\n"
          ]
        },
        {
          "output_type": "stream",
          "name": "stdout",
          "text": [
            "Extracting ./data/cifar-10-python.tar.gz to ./data\n",
            "Files already downloaded and verified\n"
          ]
        }
      ],
      "source": [
        "import torch\n",
        "import torchvision\n",
        "import torchvision.transforms as transforms\n",
        "import matplotlib.pyplot as plt\n",
        "import numpy as np\n",
        "import torch.nn as nn\n",
        "import torch.nn.functional as F\n",
        "import torch.optim as optim\n",
        "\n",
        "device = torch.device(\"cuda:0\" if torch.cuda.is_available() else \"cpu\")\n",
        "\n",
        "transform_train = transforms.Compose([\n",
        "    transforms.RandomCrop(32, padding=4),\n",
        "    transforms.RandomHorizontalFlip(),\n",
        "    transforms.ToTensor(),\n",
        "    transforms.Normalize((0.4914, 0.4822, 0.4465), (0.2023, 0.1994, 0.2010))])\n",
        "\n",
        "transform_test = transforms.Compose([\n",
        "    transforms.ToTensor(),\n",
        "    transforms.Normalize((0.4914, 0.4822, 0.4465), (0.2023, 0.1994, 0.2010))])\n",
        "\n",
        "trainset = torchvision.datasets.CIFAR10(root='./data', train=True,  download=True, transform=transform_train)\n",
        "testset  = torchvision.datasets.CIFAR10(root='./data', train=False, download=True, transform=transform_test)\n",
        "\n",
        "trainloader = torch.utils.data.DataLoader(trainset, batch_size=128, shuffle=True, num_workers=2)\n",
        "testloader = torch.utils.data.DataLoader(testset, batch_size=128, shuffle=False, num_workers=2)\n",
        "\n",
        "classes = ('plane', 'car', 'bird', 'cat',\n",
        "           'deer', 'dog', 'frog', 'horse', 'ship', 'truck')"
      ]
    },
    {
      "cell_type": "code",
      "source": [
        "class VGG(nn.Module):\n",
        "    def __init__(self):\n",
        "        super(VGG, self).__init__()\n",
        "        self.cfg = [64, 'M', 128, 'M', 256, 256, 'M', 512, 512, 'M', 512, 512, 'M']\n",
        "        self.features = self._make_layers(self.cfg)\n",
        "        self.classifier = nn.Linear(512, 10)\n",
        "\n",
        "    def forward(self, x):\n",
        "        out = self.features(x)\n",
        "        out = out.view(out.size(0), -1)\n",
        "        out = self.classifier(out)\n",
        "        return out\n",
        "\n",
        "    def _make_layers(self, cfg):\n",
        "        layers = []\n",
        "        in_channels = 3\n",
        "        for x in cfg:\n",
        "            if x == 'M':\n",
        "                layers += [nn.MaxPool2d(kernel_size=2, stride=2)]\n",
        "            else:\n",
        "                layers += [nn.Conv2d(in_channels, x, kernel_size=3, padding=1),\n",
        "                           nn.BatchNorm2d(x),\n",
        "                           nn.ReLU(inplace=True)]\n",
        "                in_channels = x\n",
        "        layers += [nn.AvgPool2d(kernel_size=1, stride=1)]\n",
        "        return nn.Sequential(*layers)"
      ],
      "metadata": {
        "id": "bA4uWOJxtkj9"
      },
      "execution_count": null,
      "outputs": []
    },
    {
      "cell_type": "code",
      "source": [
        "net = VGG().to(device)\n",
        "criterion = nn.CrossEntropyLoss()\n",
        "optimizer = optim.Adam(net.parameters(), lr=0.001)"
      ],
      "metadata": {
        "id": "-tTMOPzU0iz1"
      },
      "execution_count": null,
      "outputs": []
    },
    {
      "cell_type": "code",
      "source": [
        "# 训练\n",
        "for epoch in range(10):\n",
        "    for i, (inputs, labels) in enumerate(trainloader):\n",
        "        inputs = inputs.to(device)\n",
        "        labels = labels.to(device)\n",
        "        optimizer.zero_grad()\n",
        "        outputs = net(inputs)\n",
        "        loss = criterion(outputs, labels)\n",
        "        loss.backward()\n",
        "        optimizer.step()\n",
        "        if i % 100 == 0:\n",
        "            print('Epoch: %d Minibatch: %5d loss: %.3f' %(epoch + 1, i + 1, loss.item()))\n",
        "\n",
        "print('Finished Training')"
      ],
      "metadata": {
        "colab": {
          "base_uri": "https://localhost:8080/"
        },
        "id": "cDmZidSD0jSw",
        "outputId": "9e9a35fa-c57a-4a68-a74e-3ea966c06a92"
      },
      "execution_count": null,
      "outputs": [
        {
          "output_type": "stream",
          "name": "stdout",
          "text": [
            "Epoch: 1 Minibatch:     1 loss: 2.432\n",
            "Epoch: 1 Minibatch:   101 loss: 1.826\n",
            "Epoch: 1 Minibatch:   201 loss: 1.674\n",
            "Epoch: 1 Minibatch:   301 loss: 1.290\n",
            "Epoch: 2 Minibatch:     1 loss: 1.145\n",
            "Epoch: 2 Minibatch:   101 loss: 1.031\n",
            "Epoch: 2 Minibatch:   201 loss: 0.794\n",
            "Epoch: 2 Minibatch:   301 loss: 1.025\n",
            "Epoch: 3 Minibatch:     1 loss: 0.926\n",
            "Epoch: 3 Minibatch:   101 loss: 1.095\n",
            "Epoch: 3 Minibatch:   201 loss: 0.654\n",
            "Epoch: 3 Minibatch:   301 loss: 0.959\n",
            "Epoch: 4 Minibatch:     1 loss: 0.616\n",
            "Epoch: 4 Minibatch:   101 loss: 0.748\n",
            "Epoch: 4 Minibatch:   201 loss: 0.771\n",
            "Epoch: 4 Minibatch:   301 loss: 0.620\n",
            "Epoch: 5 Minibatch:     1 loss: 0.671\n",
            "Epoch: 5 Minibatch:   101 loss: 0.472\n",
            "Epoch: 5 Minibatch:   201 loss: 0.634\n",
            "Epoch: 5 Minibatch:   301 loss: 0.538\n",
            "Epoch: 6 Minibatch:     1 loss: 0.667\n",
            "Epoch: 6 Minibatch:   101 loss: 0.540\n",
            "Epoch: 6 Minibatch:   201 loss: 0.497\n",
            "Epoch: 6 Minibatch:   301 loss: 0.400\n",
            "Epoch: 7 Minibatch:     1 loss: 0.444\n",
            "Epoch: 7 Minibatch:   101 loss: 0.536\n",
            "Epoch: 7 Minibatch:   201 loss: 0.612\n",
            "Epoch: 7 Minibatch:   301 loss: 0.385\n",
            "Epoch: 8 Minibatch:     1 loss: 0.379\n",
            "Epoch: 8 Minibatch:   101 loss: 0.325\n",
            "Epoch: 8 Minibatch:   201 loss: 0.482\n",
            "Epoch: 8 Minibatch:   301 loss: 0.426\n",
            "Epoch: 9 Minibatch:     1 loss: 0.389\n",
            "Epoch: 9 Minibatch:   101 loss: 0.315\n",
            "Epoch: 9 Minibatch:   201 loss: 0.509\n",
            "Epoch: 9 Minibatch:   301 loss: 0.532\n",
            "Epoch: 10 Minibatch:     1 loss: 0.503\n",
            "Epoch: 10 Minibatch:   101 loss: 0.507\n",
            "Epoch: 10 Minibatch:   201 loss: 0.487\n",
            "Epoch: 10 Minibatch:   301 loss: 0.322\n",
            "Finished Training\n"
          ]
        }
      ]
    },
    {
      "cell_type": "code",
      "source": [
        "correct = 0\n",
        "total = 0\n",
        "\n",
        "for data in testloader:\n",
        "    images, labels = data\n",
        "    images, labels = images.to(device), labels.to(device)\n",
        "    outputs = net(images)\n",
        "    _, predicted = torch.max(outputs.data, 1)\n",
        "    total += labels.size(0)\n",
        "    correct += (predicted == labels).sum().item()\n",
        "\n",
        "print('Accuracy of the network on the 10000 test images: %.2f %%' % (\n",
        "    100 * correct / total))"
      ],
      "metadata": {
        "id": "Uv6GDPGL6Rxz",
        "outputId": "2daa0868-4a74-43d5-e930-604f7d886b00",
        "colab": {
          "base_uri": "https://localhost:8080/"
        }
      },
      "execution_count": null,
      "outputs": [
        {
          "output_type": "stream",
          "name": "stdout",
          "text": [
            "Accuracy of the network on the 10000 test images: 83.39 %\n"
          ]
        }
      ]
    }
  ]
}